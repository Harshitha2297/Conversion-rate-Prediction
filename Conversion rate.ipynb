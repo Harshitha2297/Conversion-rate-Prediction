{
 "cells": [
  {
   "cell_type": "code",
   "execution_count": 7,
   "id": "4f10e898",
   "metadata": {},
   "outputs": [],
   "source": [
    "#Loading libraries used for this project\n",
    "import pandas as pd\n",
    "import numpy as np\n",
    "from pandas import DataFrame, Series\n",
    "import sklearn\n",
    "from sklearn.tree import DecisionTreeClassifier\n",
    "from sklearn.metrics import classification_report \n",
    "from sklearn.model_selection import train_test_split\n",
    "from sklearn.pipeline import Pipeline\n",
    "from sklearn.model_selection import GridSearchCV\n",
    "from sklearn.preprocessing import LabelEncoder\n",
    "import warnings\n",
    "warnings.filterwarnings('ignore')\n",
    "from sklearn.ensemble import RandomForestClassifier\n",
    "#from sklearn.ensemble.partial_dependence import plot_partial_dependence\n",
    "from sklearn.ensemble import GradientBoostingRegressor\n",
    "#from sklearn.ensemble import partial_dependence\n",
    "%matplotlib inline\n",
    "import matplotlib.pyplot as plt"
   ]
  },
  {
   "cell_type": "markdown",
   "id": "7093408d",
   "metadata": {},
   "source": [
    "Reading the data below"
   ]
  },
  {
   "cell_type": "code",
   "execution_count": 56,
   "id": "c01d060c",
   "metadata": {},
   "outputs": [],
   "source": [
    "data = pd.read_csv('conversion_data.csv')"
   ]
  },
  {
   "cell_type": "code",
   "execution_count": 57,
   "id": "4c0d7b96",
   "metadata": {},
   "outputs": [
    {
     "data": {
      "text/html": [
       "<div>\n",
       "<style scoped>\n",
       "    .dataframe tbody tr th:only-of-type {\n",
       "        vertical-align: middle;\n",
       "    }\n",
       "\n",
       "    .dataframe tbody tr th {\n",
       "        vertical-align: top;\n",
       "    }\n",
       "\n",
       "    .dataframe thead th {\n",
       "        text-align: right;\n",
       "    }\n",
       "</style>\n",
       "<table border=\"1\" class=\"dataframe\">\n",
       "  <thead>\n",
       "    <tr style=\"text-align: right;\">\n",
       "      <th></th>\n",
       "      <th>country</th>\n",
       "      <th>age</th>\n",
       "      <th>new_user</th>\n",
       "      <th>source</th>\n",
       "      <th>total_pages_visited</th>\n",
       "      <th>converted</th>\n",
       "    </tr>\n",
       "  </thead>\n",
       "  <tbody>\n",
       "    <tr>\n",
       "      <th>0</th>\n",
       "      <td>UK</td>\n",
       "      <td>25</td>\n",
       "      <td>1</td>\n",
       "      <td>Ads</td>\n",
       "      <td>1</td>\n",
       "      <td>0</td>\n",
       "    </tr>\n",
       "    <tr>\n",
       "      <th>1</th>\n",
       "      <td>US</td>\n",
       "      <td>23</td>\n",
       "      <td>1</td>\n",
       "      <td>Seo</td>\n",
       "      <td>5</td>\n",
       "      <td>0</td>\n",
       "    </tr>\n",
       "    <tr>\n",
       "      <th>2</th>\n",
       "      <td>US</td>\n",
       "      <td>28</td>\n",
       "      <td>1</td>\n",
       "      <td>Seo</td>\n",
       "      <td>4</td>\n",
       "      <td>0</td>\n",
       "    </tr>\n",
       "    <tr>\n",
       "      <th>3</th>\n",
       "      <td>China</td>\n",
       "      <td>39</td>\n",
       "      <td>1</td>\n",
       "      <td>Seo</td>\n",
       "      <td>5</td>\n",
       "      <td>0</td>\n",
       "    </tr>\n",
       "    <tr>\n",
       "      <th>4</th>\n",
       "      <td>US</td>\n",
       "      <td>30</td>\n",
       "      <td>1</td>\n",
       "      <td>Seo</td>\n",
       "      <td>6</td>\n",
       "      <td>0</td>\n",
       "    </tr>\n",
       "  </tbody>\n",
       "</table>\n",
       "</div>"
      ],
      "text/plain": [
       "  country  age  new_user source  total_pages_visited  converted\n",
       "0      UK   25         1    Ads                    1          0\n",
       "1      US   23         1    Seo                    5          0\n",
       "2      US   28         1    Seo                    4          0\n",
       "3   China   39         1    Seo                    5          0\n",
       "4      US   30         1    Seo                    6          0"
      ]
     },
     "execution_count": 57,
     "metadata": {},
     "output_type": "execute_result"
    }
   ],
   "source": [
    "data.head(5)"
   ]
  },
  {
   "cell_type": "markdown",
   "id": "c07ec362",
   "metadata": {},
   "source": [
    "Describing basic summary statistics"
   ]
  },
  {
   "cell_type": "code",
   "execution_count": 10,
   "id": "034ce915",
   "metadata": {},
   "outputs": [
    {
     "data": {
      "text/html": [
       "<div>\n",
       "<style scoped>\n",
       "    .dataframe tbody tr th:only-of-type {\n",
       "        vertical-align: middle;\n",
       "    }\n",
       "\n",
       "    .dataframe tbody tr th {\n",
       "        vertical-align: top;\n",
       "    }\n",
       "\n",
       "    .dataframe thead th {\n",
       "        text-align: right;\n",
       "    }\n",
       "</style>\n",
       "<table border=\"1\" class=\"dataframe\">\n",
       "  <thead>\n",
       "    <tr style=\"text-align: right;\">\n",
       "      <th></th>\n",
       "      <th>age</th>\n",
       "      <th>new_user</th>\n",
       "      <th>total_pages_visited</th>\n",
       "      <th>converted</th>\n",
       "    </tr>\n",
       "  </thead>\n",
       "  <tbody>\n",
       "    <tr>\n",
       "      <th>count</th>\n",
       "      <td>316200.000000</td>\n",
       "      <td>316200.000000</td>\n",
       "      <td>316200.000000</td>\n",
       "      <td>316200.000000</td>\n",
       "    </tr>\n",
       "    <tr>\n",
       "      <th>mean</th>\n",
       "      <td>30.569858</td>\n",
       "      <td>0.685465</td>\n",
       "      <td>4.872966</td>\n",
       "      <td>0.032258</td>\n",
       "    </tr>\n",
       "    <tr>\n",
       "      <th>std</th>\n",
       "      <td>8.271802</td>\n",
       "      <td>0.464331</td>\n",
       "      <td>3.341104</td>\n",
       "      <td>0.176685</td>\n",
       "    </tr>\n",
       "    <tr>\n",
       "      <th>min</th>\n",
       "      <td>17.000000</td>\n",
       "      <td>0.000000</td>\n",
       "      <td>1.000000</td>\n",
       "      <td>0.000000</td>\n",
       "    </tr>\n",
       "    <tr>\n",
       "      <th>25%</th>\n",
       "      <td>24.000000</td>\n",
       "      <td>0.000000</td>\n",
       "      <td>2.000000</td>\n",
       "      <td>0.000000</td>\n",
       "    </tr>\n",
       "    <tr>\n",
       "      <th>50%</th>\n",
       "      <td>30.000000</td>\n",
       "      <td>1.000000</td>\n",
       "      <td>4.000000</td>\n",
       "      <td>0.000000</td>\n",
       "    </tr>\n",
       "    <tr>\n",
       "      <th>75%</th>\n",
       "      <td>36.000000</td>\n",
       "      <td>1.000000</td>\n",
       "      <td>7.000000</td>\n",
       "      <td>0.000000</td>\n",
       "    </tr>\n",
       "    <tr>\n",
       "      <th>max</th>\n",
       "      <td>123.000000</td>\n",
       "      <td>1.000000</td>\n",
       "      <td>29.000000</td>\n",
       "      <td>1.000000</td>\n",
       "    </tr>\n",
       "  </tbody>\n",
       "</table>\n",
       "</div>"
      ],
      "text/plain": [
       "                 age       new_user  total_pages_visited      converted\n",
       "count  316200.000000  316200.000000        316200.000000  316200.000000\n",
       "mean       30.569858       0.685465             4.872966       0.032258\n",
       "std         8.271802       0.464331             3.341104       0.176685\n",
       "min        17.000000       0.000000             1.000000       0.000000\n",
       "25%        24.000000       0.000000             2.000000       0.000000\n",
       "50%        30.000000       1.000000             4.000000       0.000000\n",
       "75%        36.000000       1.000000             7.000000       0.000000\n",
       "max       123.000000       1.000000            29.000000       1.000000"
      ]
     },
     "execution_count": 10,
     "metadata": {},
     "output_type": "execute_result"
    }
   ],
   "source": [
    "data.describe()"
   ]
  },
  {
   "cell_type": "markdown",
   "id": "35dd9a4b",
   "metadata": {},
   "source": [
    "Some quick observations\n",
    "1. The users for this site is fairly young with a mean age of about 30 years.\n",
    "2. There seems to be some data inconsistency. The maximum age is indicated to be 123 years.\n",
    "3. 68% of the users are new and only less that 32% are return users.\n",
    "4. The average number of pages visited by a user in one session is around 4.8 pages.\n",
    "5. Total number of users that convert is around 3% which seems reasonable as it is the industry standard."
   ]
  },
  {
   "cell_type": "code",
   "execution_count": 11,
   "id": "f9842694",
   "metadata": {},
   "outputs": [
    {
     "data": {
      "text/plain": [
       "count     316200\n",
       "unique         4\n",
       "top           US\n",
       "freq      178092\n",
       "Name: country, dtype: object"
      ]
     },
     "execution_count": 11,
     "metadata": {},
     "output_type": "execute_result"
    }
   ],
   "source": [
    "#investigating country and source columns\n",
    "data['country'].describe()"
   ]
  },
  {
   "cell_type": "code",
   "execution_count": 12,
   "id": "39ed39b8",
   "metadata": {},
   "outputs": [
    {
     "data": {
      "text/plain": [
       "count     316200\n",
       "unique         3\n",
       "top          Seo\n",
       "freq      155040\n",
       "Name: source, dtype: object"
      ]
     },
     "execution_count": 12,
     "metadata": {},
     "output_type": "execute_result"
    }
   ],
   "source": [
    "data['source'].describe()"
   ]
  },
  {
   "cell_type": "code",
   "execution_count": 14,
   "id": "f8d9b956",
   "metadata": {},
   "outputs": [
    {
     "data": {
      "text/html": [
       "<div>\n",
       "<style scoped>\n",
       "    .dataframe tbody tr th:only-of-type {\n",
       "        vertical-align: middle;\n",
       "    }\n",
       "\n",
       "    .dataframe tbody tr th {\n",
       "        vertical-align: top;\n",
       "    }\n",
       "\n",
       "    .dataframe thead th {\n",
       "        text-align: right;\n",
       "    }\n",
       "</style>\n",
       "<table border=\"1\" class=\"dataframe\">\n",
       "  <thead>\n",
       "    <tr style=\"text-align: right;\">\n",
       "      <th></th>\n",
       "      <th>age</th>\n",
       "      <th>new_user</th>\n",
       "      <th>source</th>\n",
       "      <th>total_pages_visited</th>\n",
       "      <th>converted</th>\n",
       "    </tr>\n",
       "    <tr>\n",
       "      <th>country</th>\n",
       "      <th></th>\n",
       "      <th></th>\n",
       "      <th></th>\n",
       "      <th></th>\n",
       "      <th></th>\n",
       "    </tr>\n",
       "  </thead>\n",
       "  <tbody>\n",
       "    <tr>\n",
       "      <th>China</th>\n",
       "      <td>76602</td>\n",
       "      <td>76602</td>\n",
       "      <td>76602</td>\n",
       "      <td>76602</td>\n",
       "      <td>76602</td>\n",
       "    </tr>\n",
       "    <tr>\n",
       "      <th>Germany</th>\n",
       "      <td>13056</td>\n",
       "      <td>13056</td>\n",
       "      <td>13056</td>\n",
       "      <td>13056</td>\n",
       "      <td>13056</td>\n",
       "    </tr>\n",
       "    <tr>\n",
       "      <th>UK</th>\n",
       "      <td>48450</td>\n",
       "      <td>48450</td>\n",
       "      <td>48450</td>\n",
       "      <td>48450</td>\n",
       "      <td>48450</td>\n",
       "    </tr>\n",
       "    <tr>\n",
       "      <th>US</th>\n",
       "      <td>178092</td>\n",
       "      <td>178092</td>\n",
       "      <td>178092</td>\n",
       "      <td>178092</td>\n",
       "      <td>178092</td>\n",
       "    </tr>\n",
       "  </tbody>\n",
       "</table>\n",
       "</div>"
      ],
      "text/plain": [
       "            age  new_user  source  total_pages_visited  converted\n",
       "country                                                          \n",
       "China     76602     76602   76602                76602      76602\n",
       "Germany   13056     13056   13056                13056      13056\n",
       "UK        48450     48450   48450                48450      48450\n",
       "US       178092    178092  178092               178092     178092"
      ]
     },
     "execution_count": 14,
     "metadata": {},
     "output_type": "execute_result"
    }
   ],
   "source": [
    "data.groupby('country').count()"
   ]
  },
  {
   "cell_type": "markdown",
   "id": "be574a1d",
   "metadata": {},
   "source": [
    "Highest traffic for the site comes from US, followed by China and UK. This indicates it's probably a US based site."
   ]
  },
  {
   "cell_type": "markdown",
   "id": "07f3b5c4",
   "metadata": {},
   "source": [
    "Checking for data inconsistencies below"
   ]
  },
  {
   "cell_type": "code",
   "execution_count": 15,
   "id": "e6f97783",
   "metadata": {},
   "outputs": [
    {
     "data": {
      "text/html": [
       "<div>\n",
       "<style scoped>\n",
       "    .dataframe tbody tr th:only-of-type {\n",
       "        vertical-align: middle;\n",
       "    }\n",
       "\n",
       "    .dataframe tbody tr th {\n",
       "        vertical-align: top;\n",
       "    }\n",
       "\n",
       "    .dataframe thead th {\n",
       "        text-align: right;\n",
       "    }\n",
       "</style>\n",
       "<table border=\"1\" class=\"dataframe\">\n",
       "  <thead>\n",
       "    <tr style=\"text-align: right;\">\n",
       "      <th></th>\n",
       "      <th>country</th>\n",
       "      <th>age</th>\n",
       "      <th>new_user</th>\n",
       "      <th>source</th>\n",
       "      <th>total_pages_visited</th>\n",
       "      <th>converted</th>\n",
       "    </tr>\n",
       "  </thead>\n",
       "  <tbody>\n",
       "    <tr>\n",
       "      <th>90928</th>\n",
       "      <td>Germany</td>\n",
       "      <td>123</td>\n",
       "      <td>0</td>\n",
       "      <td>Seo</td>\n",
       "      <td>15</td>\n",
       "      <td>1</td>\n",
       "    </tr>\n",
       "    <tr>\n",
       "      <th>295581</th>\n",
       "      <td>UK</td>\n",
       "      <td>111</td>\n",
       "      <td>0</td>\n",
       "      <td>Ads</td>\n",
       "      <td>10</td>\n",
       "      <td>1</td>\n",
       "    </tr>\n",
       "    <tr>\n",
       "      <th>265167</th>\n",
       "      <td>US</td>\n",
       "      <td>79</td>\n",
       "      <td>1</td>\n",
       "      <td>Direct</td>\n",
       "      <td>1</td>\n",
       "      <td>0</td>\n",
       "    </tr>\n",
       "    <tr>\n",
       "      <th>192644</th>\n",
       "      <td>US</td>\n",
       "      <td>77</td>\n",
       "      <td>0</td>\n",
       "      <td>Direct</td>\n",
       "      <td>4</td>\n",
       "      <td>0</td>\n",
       "    </tr>\n",
       "    <tr>\n",
       "      <th>154217</th>\n",
       "      <td>US</td>\n",
       "      <td>73</td>\n",
       "      <td>1</td>\n",
       "      <td>Seo</td>\n",
       "      <td>5</td>\n",
       "      <td>0</td>\n",
       "    </tr>\n",
       "    <tr>\n",
       "      <th>208969</th>\n",
       "      <td>US</td>\n",
       "      <td>72</td>\n",
       "      <td>1</td>\n",
       "      <td>Direct</td>\n",
       "      <td>4</td>\n",
       "      <td>0</td>\n",
       "    </tr>\n",
       "    <tr>\n",
       "      <th>301366</th>\n",
       "      <td>UK</td>\n",
       "      <td>70</td>\n",
       "      <td>0</td>\n",
       "      <td>Ads</td>\n",
       "      <td>5</td>\n",
       "      <td>0</td>\n",
       "    </tr>\n",
       "    <tr>\n",
       "      <th>114485</th>\n",
       "      <td>US</td>\n",
       "      <td>70</td>\n",
       "      <td>1</td>\n",
       "      <td>Ads</td>\n",
       "      <td>9</td>\n",
       "      <td>0</td>\n",
       "    </tr>\n",
       "    <tr>\n",
       "      <th>57122</th>\n",
       "      <td>UK</td>\n",
       "      <td>69</td>\n",
       "      <td>1</td>\n",
       "      <td>Direct</td>\n",
       "      <td>4</td>\n",
       "      <td>0</td>\n",
       "    </tr>\n",
       "    <tr>\n",
       "      <th>290142</th>\n",
       "      <td>US</td>\n",
       "      <td>69</td>\n",
       "      <td>1</td>\n",
       "      <td>Seo</td>\n",
       "      <td>6</td>\n",
       "      <td>0</td>\n",
       "    </tr>\n",
       "  </tbody>\n",
       "</table>\n",
       "</div>"
      ],
      "text/plain": [
       "        country  age  new_user  source  total_pages_visited  converted\n",
       "90928   Germany  123         0     Seo                   15          1\n",
       "295581       UK  111         0     Ads                   10          1\n",
       "265167       US   79         1  Direct                    1          0\n",
       "192644       US   77         0  Direct                    4          0\n",
       "154217       US   73         1     Seo                    5          0\n",
       "208969       US   72         1  Direct                    4          0\n",
       "301366       UK   70         0     Ads                    5          0\n",
       "114485       US   70         1     Ads                    9          0\n",
       "57122        UK   69         1  Direct                    4          0\n",
       "290142       US   69         1     Seo                    6          0"
      ]
     },
     "execution_count": 15,
     "metadata": {},
     "output_type": "execute_result"
    }
   ],
   "source": [
    "data.sort_values(by = 'age', ascending = False).head(10)"
   ]
  },
  {
   "cell_type": "markdown",
   "id": "ded214d3",
   "metadata": {},
   "source": [
    "It's evident that there are only two rows with probably wrong data entered.\n",
    "\n",
    "The next course of action is one of two things\n",
    "\n",
    "1. Remove both these rows\n",
    "2. Fill these rows with a substituted value such as mean age etc\n",
    "\n",
    "It's safer to remove the entire row"
   ]
  },
  {
   "cell_type": "code",
   "execution_count": 17,
   "id": "909ba452",
   "metadata": {},
   "outputs": [
    {
     "data": {
      "text/html": [
       "<div>\n",
       "<style scoped>\n",
       "    .dataframe tbody tr th:only-of-type {\n",
       "        vertical-align: middle;\n",
       "    }\n",
       "\n",
       "    .dataframe tbody tr th {\n",
       "        vertical-align: top;\n",
       "    }\n",
       "\n",
       "    .dataframe thead th {\n",
       "        text-align: right;\n",
       "    }\n",
       "</style>\n",
       "<table border=\"1\" class=\"dataframe\">\n",
       "  <thead>\n",
       "    <tr style=\"text-align: right;\">\n",
       "      <th></th>\n",
       "      <th>country</th>\n",
       "      <th>age</th>\n",
       "      <th>new_user</th>\n",
       "      <th>source</th>\n",
       "      <th>total_pages_visited</th>\n",
       "      <th>converted</th>\n",
       "    </tr>\n",
       "  </thead>\n",
       "  <tbody>\n",
       "    <tr>\n",
       "      <th>265167</th>\n",
       "      <td>US</td>\n",
       "      <td>79</td>\n",
       "      <td>1</td>\n",
       "      <td>Direct</td>\n",
       "      <td>1</td>\n",
       "      <td>0</td>\n",
       "    </tr>\n",
       "    <tr>\n",
       "      <th>192644</th>\n",
       "      <td>US</td>\n",
       "      <td>77</td>\n",
       "      <td>0</td>\n",
       "      <td>Direct</td>\n",
       "      <td>4</td>\n",
       "      <td>0</td>\n",
       "    </tr>\n",
       "    <tr>\n",
       "      <th>154217</th>\n",
       "      <td>US</td>\n",
       "      <td>73</td>\n",
       "      <td>1</td>\n",
       "      <td>Seo</td>\n",
       "      <td>5</td>\n",
       "      <td>0</td>\n",
       "    </tr>\n",
       "    <tr>\n",
       "      <th>208969</th>\n",
       "      <td>US</td>\n",
       "      <td>72</td>\n",
       "      <td>1</td>\n",
       "      <td>Direct</td>\n",
       "      <td>4</td>\n",
       "      <td>0</td>\n",
       "    </tr>\n",
       "    <tr>\n",
       "      <th>114485</th>\n",
       "      <td>US</td>\n",
       "      <td>70</td>\n",
       "      <td>1</td>\n",
       "      <td>Ads</td>\n",
       "      <td>9</td>\n",
       "      <td>0</td>\n",
       "    </tr>\n",
       "    <tr>\n",
       "      <th>301366</th>\n",
       "      <td>UK</td>\n",
       "      <td>70</td>\n",
       "      <td>0</td>\n",
       "      <td>Ads</td>\n",
       "      <td>5</td>\n",
       "      <td>0</td>\n",
       "    </tr>\n",
       "    <tr>\n",
       "      <th>57122</th>\n",
       "      <td>UK</td>\n",
       "      <td>69</td>\n",
       "      <td>1</td>\n",
       "      <td>Direct</td>\n",
       "      <td>4</td>\n",
       "      <td>0</td>\n",
       "    </tr>\n",
       "  </tbody>\n",
       "</table>\n",
       "</div>"
      ],
      "text/plain": [
       "       country  age  new_user  source  total_pages_visited  converted\n",
       "265167      US   79         1  Direct                    1          0\n",
       "192644      US   77         0  Direct                    4          0\n",
       "154217      US   73         1     Seo                    5          0\n",
       "208969      US   72         1  Direct                    4          0\n",
       "114485      US   70         1     Ads                    9          0\n",
       "301366      UK   70         0     Ads                    5          0\n",
       "57122       UK   69         1  Direct                    4          0"
      ]
     },
     "execution_count": 17,
     "metadata": {},
     "output_type": "execute_result"
    }
   ],
   "source": [
    "data.drop([90928,295581], axis = 0).sort_values(by = 'age', ascending = False).head(7)"
   ]
  },
  {
   "cell_type": "markdown",
   "id": "c1bca157",
   "metadata": {},
   "source": [
    "The inconsistent data points have been removed\n"
   ]
  },
  {
   "cell_type": "markdown",
   "id": "9f5dd198",
   "metadata": {},
   "source": [
    "Exploring the data below to get a better sense of it."
   ]
  },
  {
   "cell_type": "code",
   "execution_count": 18,
   "id": "0851e4e0",
   "metadata": {},
   "outputs": [],
   "source": [
    "#Conversion rate by countries\n",
    "\n",
    "data_country = data.groupby('country')[['converted']].mean()"
   ]
  },
  {
   "cell_type": "code",
   "execution_count": 19,
   "id": "9280dec1",
   "metadata": {},
   "outputs": [
    {
     "data": {
      "text/html": [
       "<div>\n",
       "<style scoped>\n",
       "    .dataframe tbody tr th:only-of-type {\n",
       "        vertical-align: middle;\n",
       "    }\n",
       "\n",
       "    .dataframe tbody tr th {\n",
       "        vertical-align: top;\n",
       "    }\n",
       "\n",
       "    .dataframe thead th {\n",
       "        text-align: right;\n",
       "    }\n",
       "</style>\n",
       "<table border=\"1\" class=\"dataframe\">\n",
       "  <thead>\n",
       "    <tr style=\"text-align: right;\">\n",
       "      <th></th>\n",
       "      <th>converted</th>\n",
       "    </tr>\n",
       "    <tr>\n",
       "      <th>country</th>\n",
       "      <th></th>\n",
       "    </tr>\n",
       "  </thead>\n",
       "  <tbody>\n",
       "    <tr>\n",
       "      <th>China</th>\n",
       "      <td>0.001332</td>\n",
       "    </tr>\n",
       "    <tr>\n",
       "      <th>Germany</th>\n",
       "      <td>0.062500</td>\n",
       "    </tr>\n",
       "    <tr>\n",
       "      <th>UK</th>\n",
       "      <td>0.052632</td>\n",
       "    </tr>\n",
       "    <tr>\n",
       "      <th>US</th>\n",
       "      <td>0.037801</td>\n",
       "    </tr>\n",
       "  </tbody>\n",
       "</table>\n",
       "</div>"
      ],
      "text/plain": [
       "         converted\n",
       "country           \n",
       "China     0.001332\n",
       "Germany   0.062500\n",
       "UK        0.052632\n",
       "US        0.037801"
      ]
     },
     "execution_count": 19,
     "metadata": {},
     "output_type": "execute_result"
    }
   ],
   "source": [
    "#Plotting the above dataframe\n",
    "\n",
    "data_country.head(5)"
   ]
  },
  {
   "cell_type": "code",
   "execution_count": 21,
   "id": "866fbb13",
   "metadata": {},
   "outputs": [
    {
     "data": {
      "text/plain": [
       "<AxesSubplot:xlabel='country'>"
      ]
     },
     "execution_count": 21,
     "metadata": {},
     "output_type": "execute_result"
    },
    {
     "data": {
      "image/png": "[encoded data removed]",
      "text/plain": [
       "<Figure size 432x288 with 1 Axes>"
      ]
     },
     "metadata": {
      "needs_background": "light"
     },
     "output_type": "display_data"
    }
   ],
   "source": [
    "data_country.plot(kind = 'bar', color = 'r')"
   ]
  },
  {
   "cell_type": "markdown",
   "id": "98979e17",
   "metadata": {},
   "source": [
    "Some quick takeaways:\n",
    "\n",
    "1. Although Germany seems to have the lowest traffic, it still seems to maintain the highest conversion rate.\n",
    "This is true of UK as well.\n",
    "2. However, it is interesting to note that, China has a very low conversion rate. Much lesser than the other three countries\n",
    "\n",
    "Let's look into this further\n",
    "\n",
    "Plotting total pages visited. This plot is as expected. As the number of pages visited increases, the conversion rate increases as well."
   ]
  },
  {
   "cell_type": "code",
   "execution_count": 22,
   "id": "c41bed7e",
   "metadata": {},
   "outputs": [
    {
     "data": {
      "text/plain": [
       "<AxesSubplot:xlabel='total_pages_visited'>"
      ]
     },
     "execution_count": 22,
     "metadata": {},
     "output_type": "execute_result"
    },
    {
     "data": {
      "image/png": "[encoded data removed]",
      "text/plain": [
       "<Figure size 432x288 with 1 Axes>"
      ]
     },
     "metadata": {
      "needs_background": "light"
     },
     "output_type": "display_data"
    }
   ],
   "source": [
    "data.groupby('total_pages_visited')[['converted']].mean().plot(kind = 'line', color = 'b')"
   ]
  },
  {
   "cell_type": "code",
   "execution_count": 23,
   "id": "2bb0e43d",
   "metadata": {},
   "outputs": [
    {
     "data": {
      "text/html": [
       "<div>\n",
       "<style scoped>\n",
       "    .dataframe tbody tr th:only-of-type {\n",
       "        vertical-align: middle;\n",
       "    }\n",
       "\n",
       "    .dataframe tbody tr th {\n",
       "        vertical-align: top;\n",
       "    }\n",
       "\n",
       "    .dataframe thead tr th {\n",
       "        text-align: left;\n",
       "    }\n",
       "\n",
       "    .dataframe thead tr:last-of-type th {\n",
       "        text-align: right;\n",
       "    }\n",
       "</style>\n",
       "<table border=\"1\" class=\"dataframe\">\n",
       "  <thead>\n",
       "    <tr>\n",
       "      <th></th>\n",
       "      <th colspan=\"8\" halign=\"left\">age</th>\n",
       "    </tr>\n",
       "    <tr>\n",
       "      <th></th>\n",
       "      <th>count</th>\n",
       "      <th>mean</th>\n",
       "      <th>std</th>\n",
       "      <th>min</th>\n",
       "      <th>25%</th>\n",
       "      <th>50%</th>\n",
       "      <th>75%</th>\n",
       "      <th>max</th>\n",
       "    </tr>\n",
       "    <tr>\n",
       "      <th>country</th>\n",
       "      <th></th>\n",
       "      <th></th>\n",
       "      <th></th>\n",
       "      <th></th>\n",
       "      <th></th>\n",
       "      <th></th>\n",
       "      <th></th>\n",
       "      <th></th>\n",
       "    </tr>\n",
       "  </thead>\n",
       "  <tbody>\n",
       "    <tr>\n",
       "      <th>China</th>\n",
       "      <td>76602.0</td>\n",
       "      <td>30.672972</td>\n",
       "      <td>8.283862</td>\n",
       "      <td>17.0</td>\n",
       "      <td>24.0</td>\n",
       "      <td>30.0</td>\n",
       "      <td>36.0</td>\n",
       "      <td>69.0</td>\n",
       "    </tr>\n",
       "    <tr>\n",
       "      <th>Germany</th>\n",
       "      <td>13056.0</td>\n",
       "      <td>30.449985</td>\n",
       "      <td>8.289022</td>\n",
       "      <td>17.0</td>\n",
       "      <td>24.0</td>\n",
       "      <td>30.0</td>\n",
       "      <td>36.0</td>\n",
       "      <td>123.0</td>\n",
       "    </tr>\n",
       "    <tr>\n",
       "      <th>UK</th>\n",
       "      <td>48450.0</td>\n",
       "      <td>30.451538</td>\n",
       "      <td>8.244991</td>\n",
       "      <td>17.0</td>\n",
       "      <td>24.0</td>\n",
       "      <td>30.0</td>\n",
       "      <td>36.0</td>\n",
       "      <td>111.0</td>\n",
       "    </tr>\n",
       "    <tr>\n",
       "      <th>US</th>\n",
       "      <td>178092.0</td>\n",
       "      <td>30.566482</td>\n",
       "      <td>8.272128</td>\n",
       "      <td>17.0</td>\n",
       "      <td>24.0</td>\n",
       "      <td>30.0</td>\n",
       "      <td>36.0</td>\n",
       "      <td>79.0</td>\n",
       "    </tr>\n",
       "  </tbody>\n",
       "</table>\n",
       "</div>"
      ],
      "text/plain": [
       "              age                                                    \n",
       "            count       mean       std   min   25%   50%   75%    max\n",
       "country                                                              \n",
       "China     76602.0  30.672972  8.283862  17.0  24.0  30.0  36.0   69.0\n",
       "Germany   13056.0  30.449985  8.289022  17.0  24.0  30.0  36.0  123.0\n",
       "UK        48450.0  30.451538  8.244991  17.0  24.0  30.0  36.0  111.0\n",
       "US       178092.0  30.566482  8.272128  17.0  24.0  30.0  36.0   79.0"
      ]
     },
     "execution_count": 23,
     "metadata": {},
     "output_type": "execute_result"
    }
   ],
   "source": [
    "#Looking into China\n",
    "#Mean age of chinese users\n",
    "data.groupby('country')[['age']].describe()"
   ]
  },
  {
   "cell_type": "markdown",
   "id": "7bc6fa54",
   "metadata": {},
   "source": [
    "Roughly the mean age of chinese users is on par with the mean age of users in other countries. Hence, this is probably not the cause for their low conversion."
   ]
  },
  {
   "cell_type": "code",
   "execution_count": 24,
   "id": "a846f78c",
   "metadata": {},
   "outputs": [
    {
     "data": {
      "text/html": [
       "<div>\n",
       "<style scoped>\n",
       "    .dataframe tbody tr th:only-of-type {\n",
       "        vertical-align: middle;\n",
       "    }\n",
       "\n",
       "    .dataframe tbody tr th {\n",
       "        vertical-align: top;\n",
       "    }\n",
       "\n",
       "    .dataframe thead th {\n",
       "        text-align: right;\n",
       "    }\n",
       "</style>\n",
       "<table border=\"1\" class=\"dataframe\">\n",
       "  <thead>\n",
       "    <tr style=\"text-align: right;\">\n",
       "      <th></th>\n",
       "      <th>age</th>\n",
       "      <th>new_user</th>\n",
       "      <th>total_pages_visited</th>\n",
       "      <th>converted</th>\n",
       "    </tr>\n",
       "    <tr>\n",
       "      <th>country</th>\n",
       "      <th></th>\n",
       "      <th></th>\n",
       "      <th></th>\n",
       "      <th></th>\n",
       "    </tr>\n",
       "  </thead>\n",
       "  <tbody>\n",
       "    <tr>\n",
       "      <th>China</th>\n",
       "      <td>30.672972</td>\n",
       "      <td>0.698520</td>\n",
       "      <td>4.553523</td>\n",
       "      <td>0.001332</td>\n",
       "    </tr>\n",
       "    <tr>\n",
       "      <th>Germany</th>\n",
       "      <td>30.449985</td>\n",
       "      <td>0.677237</td>\n",
       "      <td>5.190717</td>\n",
       "      <td>0.062500</td>\n",
       "    </tr>\n",
       "    <tr>\n",
       "      <th>UK</th>\n",
       "      <td>30.451538</td>\n",
       "      <td>0.679835</td>\n",
       "      <td>5.082167</td>\n",
       "      <td>0.052632</td>\n",
       "    </tr>\n",
       "    <tr>\n",
       "      <th>US</th>\n",
       "      <td>30.566482</td>\n",
       "      <td>0.681985</td>\n",
       "      <td>4.930160</td>\n",
       "      <td>0.037801</td>\n",
       "    </tr>\n",
       "  </tbody>\n",
       "</table>\n",
       "</div>"
      ],
      "text/plain": [
       "               age  new_user  total_pages_visited  converted\n",
       "country                                                     \n",
       "China    30.672972  0.698520             4.553523   0.001332\n",
       "Germany  30.449985  0.677237             5.190717   0.062500\n",
       "UK       30.451538  0.679835             5.082167   0.052632\n",
       "US       30.566482  0.681985             4.930160   0.037801"
      ]
     },
     "execution_count": 24,
     "metadata": {},
     "output_type": "execute_result"
    }
   ],
   "source": [
    "#Number of pages visited by an average Chinese user\n",
    "data.groupby('country').mean()"
   ]
  },
  {
   "cell_type": "code",
   "execution_count": 25,
   "id": "5c61924a",
   "metadata": {},
   "outputs": [
    {
     "data": {
      "text/plain": [
       "<AxesSubplot:xlabel='source,country'>"
      ]
     },
     "execution_count": 25,
     "metadata": {},
     "output_type": "execute_result"
    },
    {
     "data": {
      "image/png": "[encoded data removed]",
      "text/plain": [
       "<Figure size 432x288 with 1 Axes>"
      ]
     },
     "metadata": {
      "needs_background": "light"
     },
     "output_type": "display_data"
    }
   ],
   "source": [
    "#Users' from ads\n",
    "df_analysis = data.groupby(['source','country'])[['converted']].count()\n",
    "df_analysis.plot(kind = 'bar')"
   ]
  },
  {
   "cell_type": "code",
   "execution_count": 26,
   "id": "ffd00d4c",
   "metadata": {},
   "outputs": [
    {
     "data": {
      "text/plain": [
       "<AxesSubplot:xlabel='source'>"
      ]
     },
     "execution_count": 26,
     "metadata": {},
     "output_type": "execute_result"
    },
    {
     "data": {
      "image/png": "[encoded data removed]",
      "text/plain": [
       "<Figure size 432x288 with 1 Axes>"
      ]
     },
     "metadata": {
      "needs_background": "light"
     },
     "output_type": "display_data"
    }
   ],
   "source": [
    "#Absolute numbers\n",
    "df_analysis.unstack('country').plot(kind = 'bar')"
   ]
  },
  {
   "cell_type": "code",
   "execution_count": 27,
   "id": "4c9901ee",
   "metadata": {},
   "outputs": [
    {
     "data": {
      "text/html": [
       "<div>\n",
       "<style scoped>\n",
       "    .dataframe tbody tr th:only-of-type {\n",
       "        vertical-align: middle;\n",
       "    }\n",
       "\n",
       "    .dataframe tbody tr th {\n",
       "        vertical-align: top;\n",
       "    }\n",
       "\n",
       "    .dataframe thead tr th {\n",
       "        text-align: left;\n",
       "    }\n",
       "\n",
       "    .dataframe thead tr:last-of-type th {\n",
       "        text-align: right;\n",
       "    }\n",
       "</style>\n",
       "<table border=\"1\" class=\"dataframe\">\n",
       "  <thead>\n",
       "    <tr>\n",
       "      <th></th>\n",
       "      <th colspan=\"4\" halign=\"left\">converted</th>\n",
       "    </tr>\n",
       "    <tr>\n",
       "      <th>country</th>\n",
       "      <th>China</th>\n",
       "      <th>Germany</th>\n",
       "      <th>UK</th>\n",
       "      <th>US</th>\n",
       "    </tr>\n",
       "    <tr>\n",
       "      <th>source</th>\n",
       "      <th></th>\n",
       "      <th></th>\n",
       "      <th></th>\n",
       "      <th></th>\n",
       "    </tr>\n",
       "  </thead>\n",
       "  <tbody>\n",
       "    <tr>\n",
       "      <th>Ads</th>\n",
       "      <td>21561</td>\n",
       "      <td>3760</td>\n",
       "      <td>13518</td>\n",
       "      <td>49901</td>\n",
       "    </tr>\n",
       "    <tr>\n",
       "      <th>Direct</th>\n",
       "      <td>17463</td>\n",
       "      <td>2864</td>\n",
       "      <td>11131</td>\n",
       "      <td>40962</td>\n",
       "    </tr>\n",
       "    <tr>\n",
       "      <th>Seo</th>\n",
       "      <td>37578</td>\n",
       "      <td>6432</td>\n",
       "      <td>23801</td>\n",
       "      <td>87229</td>\n",
       "    </tr>\n",
       "  </tbody>\n",
       "</table>\n",
       "</div>"
      ],
      "text/plain": [
       "        converted                      \n",
       "country     China Germany     UK     US\n",
       "source                                 \n",
       "Ads         21561    3760  13518  49901\n",
       "Direct      17463    2864  11131  40962\n",
       "Seo         37578    6432  23801  87229"
      ]
     },
     "execution_count": 27,
     "metadata": {},
     "output_type": "execute_result"
    }
   ],
   "source": [
    "#percentages\n",
    "df_analysis.unstack('country')"
   ]
  },
  {
   "cell_type": "code",
   "execution_count": 28,
   "id": "d84f86e6",
   "metadata": {},
   "outputs": [
    {
     "data": {
      "text/html": [
       "<div>\n",
       "<style scoped>\n",
       "    .dataframe tbody tr th:only-of-type {\n",
       "        vertical-align: middle;\n",
       "    }\n",
       "\n",
       "    .dataframe tbody tr th {\n",
       "        vertical-align: top;\n",
       "    }\n",
       "\n",
       "    .dataframe thead tr th {\n",
       "        text-align: left;\n",
       "    }\n",
       "</style>\n",
       "<table border=\"1\" class=\"dataframe\">\n",
       "  <thead>\n",
       "    <tr>\n",
       "      <th></th>\n",
       "      <th colspan=\"4\" halign=\"left\">converted</th>\n",
       "    </tr>\n",
       "    <tr>\n",
       "      <th>country</th>\n",
       "      <th>China</th>\n",
       "      <th>Germany</th>\n",
       "      <th>UK</th>\n",
       "      <th>US</th>\n",
       "    </tr>\n",
       "  </thead>\n",
       "  <tbody>\n",
       "    <tr>\n",
       "      <th>0</th>\n",
       "      <td>28</td>\n",
       "      <td>28</td>\n",
       "      <td>27</td>\n",
       "      <td>28</td>\n",
       "    </tr>\n",
       "    <tr>\n",
       "      <th>1</th>\n",
       "      <td>22</td>\n",
       "      <td>21</td>\n",
       "      <td>22</td>\n",
       "      <td>23</td>\n",
       "    </tr>\n",
       "    <tr>\n",
       "      <th>2</th>\n",
       "      <td>49</td>\n",
       "      <td>49</td>\n",
       "      <td>49</td>\n",
       "      <td>48</td>\n",
       "    </tr>\n",
       "  </tbody>\n",
       "</table>\n",
       "</div>"
      ],
      "text/plain": [
       "        converted                \n",
       "country     China Germany  UK  US\n",
       "0              28      28  27  28\n",
       "1              22      21  22  23\n",
       "2              49      49  49  48"
      ]
     },
     "execution_count": 28,
     "metadata": {},
     "output_type": "execute_result"
    }
   ],
   "source": [
    "def f(x):\n",
    "    y = Series([0,0,0])\n",
    "    for i in np.arange(3):\n",
    "        y[i] = 100 * x[i]/sum(x)\n",
    "    return y\n",
    "\n",
    "df_analysis.unstack('country').apply(f, axis = 0)"
   ]
  },
  {
   "cell_type": "code",
   "execution_count": 29,
   "id": "2e47967e",
   "metadata": {},
   "outputs": [
    {
     "data": {
      "text/plain": [
       "<AxesSubplot:>"
      ]
     },
     "execution_count": 29,
     "metadata": {},
     "output_type": "execute_result"
    },
    {
     "data": {
      "image/png": "[encoded data removed]",
      "text/plain": [
       "<Figure size 432x288 with 1 Axes>"
      ]
     },
     "metadata": {
      "needs_background": "light"
     },
     "output_type": "display_data"
    }
   ],
   "source": [
    "df_analysis.unstack('country').apply(f, axis = 0).plot(kind = 'bar')"
   ]
  },
  {
   "cell_type": "markdown",
   "id": "b228d88f",
   "metadata": {},
   "source": [
    "From the above table, it is evident that the conversion from seo is maximum for all countries. Also, the distribution of ads, seo and direct is comparable for all countries.\n",
    "\n",
    "We have eliminated all the obvious reasons why China might be converting poorly. From this analysis it can be said that, data from Chinese users is very similar to the ones from other users.\n",
    "\n",
    "We need to look into it even further.\n",
    "\n",
    "Delving into Machine Learning"
   ]
  },
  {
   "cell_type": "code",
   "execution_count": 30,
   "id": "fdcf7b9e",
   "metadata": {},
   "outputs": [
    {
     "data": {
      "text/html": [
       "<div>\n",
       "<style scoped>\n",
       "    .dataframe tbody tr th:only-of-type {\n",
       "        vertical-align: middle;\n",
       "    }\n",
       "\n",
       "    .dataframe tbody tr th {\n",
       "        vertical-align: top;\n",
       "    }\n",
       "\n",
       "    .dataframe thead th {\n",
       "        text-align: right;\n",
       "    }\n",
       "</style>\n",
       "<table border=\"1\" class=\"dataframe\">\n",
       "  <thead>\n",
       "    <tr style=\"text-align: right;\">\n",
       "      <th></th>\n",
       "      <th>country</th>\n",
       "      <th>age</th>\n",
       "      <th>new_user</th>\n",
       "      <th>source</th>\n",
       "      <th>total_pages_visited</th>\n",
       "      <th>converted</th>\n",
       "    </tr>\n",
       "  </thead>\n",
       "  <tbody>\n",
       "    <tr>\n",
       "      <th>0</th>\n",
       "      <td>UK</td>\n",
       "      <td>25</td>\n",
       "      <td>1</td>\n",
       "      <td>Ads</td>\n",
       "      <td>1</td>\n",
       "      <td>0</td>\n",
       "    </tr>\n",
       "    <tr>\n",
       "      <th>1</th>\n",
       "      <td>US</td>\n",
       "      <td>23</td>\n",
       "      <td>1</td>\n",
       "      <td>Seo</td>\n",
       "      <td>5</td>\n",
       "      <td>0</td>\n",
       "    </tr>\n",
       "    <tr>\n",
       "      <th>2</th>\n",
       "      <td>US</td>\n",
       "      <td>28</td>\n",
       "      <td>1</td>\n",
       "      <td>Seo</td>\n",
       "      <td>4</td>\n",
       "      <td>0</td>\n",
       "    </tr>\n",
       "    <tr>\n",
       "      <th>3</th>\n",
       "      <td>China</td>\n",
       "      <td>39</td>\n",
       "      <td>1</td>\n",
       "      <td>Seo</td>\n",
       "      <td>5</td>\n",
       "      <td>0</td>\n",
       "    </tr>\n",
       "    <tr>\n",
       "      <th>4</th>\n",
       "      <td>US</td>\n",
       "      <td>30</td>\n",
       "      <td>1</td>\n",
       "      <td>Seo</td>\n",
       "      <td>6</td>\n",
       "      <td>0</td>\n",
       "    </tr>\n",
       "  </tbody>\n",
       "</table>\n",
       "</div>"
      ],
      "text/plain": [
       "  country  age  new_user source  total_pages_visited  converted\n",
       "0      UK   25         1    Ads                    1          0\n",
       "1      US   23         1    Seo                    5          0\n",
       "2      US   28         1    Seo                    4          0\n",
       "3   China   39         1    Seo                    5          0\n",
       "4      US   30         1    Seo                    6          0"
      ]
     },
     "execution_count": 30,
     "metadata": {},
     "output_type": "execute_result"
    }
   ],
   "source": [
    "data.head(5)"
   ]
  },
  {
   "cell_type": "code",
   "execution_count": 31,
   "id": "f2603a01",
   "metadata": {},
   "outputs": [
    {
     "data": {
      "text/plain": [
       "array(['country', 'age', 'new_user', 'source', 'total_pages_visited',\n",
       "       'converted'], dtype=object)"
      ]
     },
     "execution_count": 31,
     "metadata": {},
     "output_type": "execute_result"
    }
   ],
   "source": [
    "data.columns.values"
   ]
  },
  {
   "cell_type": "code",
   "execution_count": 32,
   "id": "cc333c87",
   "metadata": {},
   "outputs": [
    {
     "data": {
      "text/plain": [
       "0    0\n",
       "1    0\n",
       "2    0\n",
       "3    0\n",
       "4    0\n",
       "Name: converted, dtype: int64"
      ]
     },
     "execution_count": 32,
     "metadata": {},
     "output_type": "execute_result"
    }
   ],
   "source": [
    "#The response variable\n",
    "y = data['converted']\n",
    "y.head(5)"
   ]
  },
  {
   "cell_type": "code",
   "execution_count": 33,
   "id": "644c76e5",
   "metadata": {},
   "outputs": [
    {
     "data": {
      "text/html": [
       "<div>\n",
       "<style scoped>\n",
       "    .dataframe tbody tr th:only-of-type {\n",
       "        vertical-align: middle;\n",
       "    }\n",
       "\n",
       "    .dataframe tbody tr th {\n",
       "        vertical-align: top;\n",
       "    }\n",
       "\n",
       "    .dataframe thead th {\n",
       "        text-align: right;\n",
       "    }\n",
       "</style>\n",
       "<table border=\"1\" class=\"dataframe\">\n",
       "  <thead>\n",
       "    <tr style=\"text-align: right;\">\n",
       "      <th></th>\n",
       "      <th>country</th>\n",
       "      <th>age</th>\n",
       "      <th>new_user</th>\n",
       "      <th>source</th>\n",
       "      <th>total_pages_visited</th>\n",
       "    </tr>\n",
       "  </thead>\n",
       "  <tbody>\n",
       "    <tr>\n",
       "      <th>0</th>\n",
       "      <td>UK</td>\n",
       "      <td>25</td>\n",
       "      <td>1</td>\n",
       "      <td>Ads</td>\n",
       "      <td>1</td>\n",
       "    </tr>\n",
       "    <tr>\n",
       "      <th>1</th>\n",
       "      <td>US</td>\n",
       "      <td>23</td>\n",
       "      <td>1</td>\n",
       "      <td>Seo</td>\n",
       "      <td>5</td>\n",
       "    </tr>\n",
       "    <tr>\n",
       "      <th>2</th>\n",
       "      <td>US</td>\n",
       "      <td>28</td>\n",
       "      <td>1</td>\n",
       "      <td>Seo</td>\n",
       "      <td>4</td>\n",
       "    </tr>\n",
       "    <tr>\n",
       "      <th>3</th>\n",
       "      <td>China</td>\n",
       "      <td>39</td>\n",
       "      <td>1</td>\n",
       "      <td>Seo</td>\n",
       "      <td>5</td>\n",
       "    </tr>\n",
       "    <tr>\n",
       "      <th>4</th>\n",
       "      <td>US</td>\n",
       "      <td>30</td>\n",
       "      <td>1</td>\n",
       "      <td>Seo</td>\n",
       "      <td>6</td>\n",
       "    </tr>\n",
       "  </tbody>\n",
       "</table>\n",
       "</div>"
      ],
      "text/plain": [
       "  country  age  new_user source  total_pages_visited\n",
       "0      UK   25         1    Ads                    1\n",
       "1      US   23         1    Seo                    5\n",
       "2      US   28         1    Seo                    4\n",
       "3   China   39         1    Seo                    5\n",
       "4      US   30         1    Seo                    6"
      ]
     },
     "execution_count": 33,
     "metadata": {},
     "output_type": "execute_result"
    }
   ],
   "source": [
    "#The features\n",
    "X = data[data.columns.values[:-1]]\n",
    "X.head(5)"
   ]
  },
  {
   "cell_type": "code",
   "execution_count": 34,
   "id": "c43b5f46",
   "metadata": {},
   "outputs": [
    {
     "data": {
      "text/html": [
       "<div>\n",
       "<style scoped>\n",
       "    .dataframe tbody tr th:only-of-type {\n",
       "        vertical-align: middle;\n",
       "    }\n",
       "\n",
       "    .dataframe tbody tr th {\n",
       "        vertical-align: top;\n",
       "    }\n",
       "\n",
       "    .dataframe thead th {\n",
       "        text-align: right;\n",
       "    }\n",
       "</style>\n",
       "<table border=\"1\" class=\"dataframe\">\n",
       "  <thead>\n",
       "    <tr style=\"text-align: right;\">\n",
       "      <th></th>\n",
       "      <th>country</th>\n",
       "      <th>age</th>\n",
       "      <th>new_user</th>\n",
       "      <th>source</th>\n",
       "      <th>total_pages_visited</th>\n",
       "    </tr>\n",
       "  </thead>\n",
       "  <tbody>\n",
       "    <tr>\n",
       "      <th>0</th>\n",
       "      <td>2</td>\n",
       "      <td>25</td>\n",
       "      <td>1</td>\n",
       "      <td>0</td>\n",
       "      <td>1</td>\n",
       "    </tr>\n",
       "    <tr>\n",
       "      <th>1</th>\n",
       "      <td>3</td>\n",
       "      <td>23</td>\n",
       "      <td>1</td>\n",
       "      <td>2</td>\n",
       "      <td>5</td>\n",
       "    </tr>\n",
       "    <tr>\n",
       "      <th>2</th>\n",
       "      <td>3</td>\n",
       "      <td>28</td>\n",
       "      <td>1</td>\n",
       "      <td>2</td>\n",
       "      <td>4</td>\n",
       "    </tr>\n",
       "    <tr>\n",
       "      <th>3</th>\n",
       "      <td>0</td>\n",
       "      <td>39</td>\n",
       "      <td>1</td>\n",
       "      <td>2</td>\n",
       "      <td>5</td>\n",
       "    </tr>\n",
       "    <tr>\n",
       "      <th>4</th>\n",
       "      <td>3</td>\n",
       "      <td>30</td>\n",
       "      <td>1</td>\n",
       "      <td>2</td>\n",
       "      <td>6</td>\n",
       "    </tr>\n",
       "  </tbody>\n",
       "</table>\n",
       "</div>"
      ],
      "text/plain": [
       "   country  age  new_user  source  total_pages_visited\n",
       "0        2   25         1       0                    1\n",
       "1        3   23         1       2                    5\n",
       "2        3   28         1       2                    4\n",
       "3        0   39         1       2                    5\n",
       "4        3   30         1       2                    6"
      ]
     },
     "execution_count": 34,
     "metadata": {},
     "output_type": "execute_result"
    }
   ],
   "source": [
    "#creating labels for country and source in the features data\n",
    "lb = LabelEncoder()\n",
    "X['country'] = lb.fit_transform(X['country'])\n",
    "X['source'] = lb.fit_transform(X['source'])\n",
    "X.head(5)"
   ]
  },
  {
   "cell_type": "markdown",
   "id": "7a88deef",
   "metadata": {},
   "source": [
    "Creating training and testing samples"
   ]
  },
  {
   "cell_type": "code",
   "execution_count": 35,
   "id": "fec472d3",
   "metadata": {},
   "outputs": [],
   "source": [
    "X_train, X_test, y_train, y_test = train_test_split(X,y)"
   ]
  },
  {
   "cell_type": "markdown",
   "id": "1f78de97",
   "metadata": {},
   "source": [
    "Creating an instance of the estimator"
   ]
  },
  {
   "cell_type": "code",
   "execution_count": 36,
   "id": "9f324318",
   "metadata": {},
   "outputs": [],
   "source": [
    "pipeline = Pipeline(steps = [('clf', DecisionTreeClassifier(criterion = 'entropy'))])"
   ]
  },
  {
   "cell_type": "markdown",
   "id": "5a289c62",
   "metadata": {},
   "source": [
    "Defining the hyperparameters for the grid search"
   ]
  },
  {
   "cell_type": "code",
   "execution_count": 37,
   "id": "37fb0d1e",
   "metadata": {},
   "outputs": [],
   "source": [
    "parameters = [{\n",
    "        'clf__max_depth': (150, 155, 160),\n",
    "        'clf__min_samples_split': (1,2,3),\n",
    "        'clf__min_samples_leaf': (1,2,3)\n",
    "    }]"
   ]
  },
  {
   "cell_type": "markdown",
   "id": "5461020b",
   "metadata": {},
   "source": [
    "Employing gridsearchcv"
   ]
  },
  {
   "cell_type": "code",
   "execution_count": 38,
   "id": "ab49774c",
   "metadata": {},
   "outputs": [],
   "source": [
    "grid_search = GridSearchCV(pipeline, parameters, n_jobs= -1, error_score= 0)"
   ]
  },
  {
   "cell_type": "code",
   "execution_count": 39,
   "id": "39b2a6e1",
   "metadata": {},
   "outputs": [
    {
     "data": {
      "text/plain": [
       "GridSearchCV(error_score=0,\n",
       "             estimator=Pipeline(steps=[('clf',\n",
       "                                        DecisionTreeClassifier(criterion='entropy'))]),\n",
       "             n_jobs=-1,\n",
       "             param_grid=[{'clf__max_depth': (150, 155, 160),\n",
       "                          'clf__min_samples_leaf': (1, 2, 3),\n",
       "                          'clf__min_samples_split': (1, 2, 3)}])"
      ]
     },
     "execution_count": 39,
     "metadata": {},
     "output_type": "execute_result"
    }
   ],
   "source": [
    "grid_search.fit(X_train, y_train)"
   ]
  },
  {
   "cell_type": "markdown",
   "id": "27184609",
   "metadata": {},
   "source": [
    "Best parameters are as follows"
   ]
  },
  {
   "cell_type": "code",
   "execution_count": 40,
   "id": "5c1002ae",
   "metadata": {},
   "outputs": [
    {
     "data": {
      "text/plain": [
       "{'memory': None,\n",
       " 'steps': [('clf',\n",
       "   DecisionTreeClassifier(criterion='entropy', max_depth=160, min_samples_leaf=3))],\n",
       " 'verbose': False,\n",
       " 'clf': DecisionTreeClassifier(criterion='entropy', max_depth=160, min_samples_leaf=3),\n",
       " 'clf__ccp_alpha': 0.0,\n",
       " 'clf__class_weight': None,\n",
       " 'clf__criterion': 'entropy',\n",
       " 'clf__max_depth': 160,\n",
       " 'clf__max_features': None,\n",
       " 'clf__max_leaf_nodes': None,\n",
       " 'clf__min_impurity_decrease': 0.0,\n",
       " 'clf__min_samples_leaf': 3,\n",
       " 'clf__min_samples_split': 2,\n",
       " 'clf__min_weight_fraction_leaf': 0.0,\n",
       " 'clf__random_state': None,\n",
       " 'clf__splitter': 'best'}"
      ]
     },
     "execution_count": 40,
     "metadata": {},
     "output_type": "execute_result"
    }
   ],
   "source": [
    "best_parameters = grid_search.best_estimator_.get_params()\n",
    "best_parameters"
   ]
  },
  {
   "cell_type": "code",
   "execution_count": 41,
   "id": "d9e69d80",
   "metadata": {},
   "outputs": [
    {
     "data": {
      "text/plain": [
       "{'clf__max_depth': 160,\n",
       " 'clf__min_samples_leaf': 3,\n",
       " 'clf__min_samples_split': 2}"
      ]
     },
     "execution_count": 41,
     "metadata": {},
     "output_type": "execute_result"
    }
   ],
   "source": [
    "grid_search.best_params_"
   ]
  },
  {
   "cell_type": "markdown",
   "id": "ccf8bb76",
   "metadata": {},
   "source": [
    "Predicting conversion rate"
   ]
  },
  {
   "cell_type": "code",
   "execution_count": 43,
   "id": "a5c6e07b",
   "metadata": {},
   "outputs": [
    {
     "name": "stdout",
     "output_type": "stream",
     "text": [
      "              precision    recall  f1-score   support\n",
      "\n",
      "           0       0.99      1.00      0.99     76457\n",
      "           1       0.82      0.65      0.72      2593\n",
      "\n",
      "    accuracy                           0.98     79050\n",
      "   macro avg       0.90      0.82      0.86     79050\n",
      "weighted avg       0.98      0.98      0.98     79050\n",
      "\n"
     ]
    }
   ],
   "source": [
    "preds = grid_search.predict(X_test)\n",
    "print (classification_report(y_test, preds))"
   ]
  },
  {
   "cell_type": "markdown",
   "id": "b3c2ef29",
   "metadata": {},
   "source": [
    "Note\n",
    "\n",
    "Recall = sensitivity = TP/(TP + FN)\n",
    "\n",
    "Precision = TP/(TP + FP)\n",
    "\n",
    "Specificity = TN/(TN + FP)\n",
    "\n",
    "1. From the above results we can conclude, recall = 0.65 and precision = 0.83\n",
    "2. This implies of all people who converted, we weren't able to identify 35% of them\n",
    "3. Similarly of all the people we identified would convert only 83% of them actually converted\n",
    "\n",
    "We need to improve sensitivity further"
   ]
  },
  {
   "cell_type": "markdown",
   "id": "13c0eb58",
   "metadata": {},
   "source": [
    "Using Ensemble Methods"
   ]
  },
  {
   "cell_type": "code",
   "execution_count": 44,
   "id": "1b539e49",
   "metadata": {},
   "outputs": [],
   "source": [
    "pipeline = Pipeline(steps = [('clf', RandomForestClassifier(criterion = 'entropy'))])"
   ]
  },
  {
   "cell_type": "code",
   "execution_count": 45,
   "id": "5039419e",
   "metadata": {},
   "outputs": [],
   "source": [
    "clf_forest = RandomForestClassifier(n_estimators= 20, criterion = 'entropy', max_depth= 50, min_samples_leaf= 3,\n",
    "                                    min_samples_split= 3, oob_score= True)"
   ]
  },
  {
   "cell_type": "code",
   "execution_count": 46,
   "id": "711dd24b",
   "metadata": {},
   "outputs": [
    {
     "data": {
      "text/plain": [
       "RandomForestClassifier(criterion='entropy', max_depth=50, min_samples_leaf=3,\n",
       "                       min_samples_split=3, n_estimators=20, oob_score=True)"
      ]
     },
     "execution_count": 46,
     "metadata": {},
     "output_type": "execute_result"
    }
   ],
   "source": [
    "clf_forest.fit(X_train, y_train)"
   ]
  },
  {
   "cell_type": "code",
   "execution_count": 47,
   "id": "3eeb4a20",
   "metadata": {},
   "outputs": [
    {
     "data": {
      "text/plain": [
       "array([0, 0, 0, ..., 0, 0, 0], dtype=int64)"
      ]
     },
     "execution_count": 47,
     "metadata": {},
     "output_type": "execute_result"
    }
   ],
   "source": [
    "preds = clf_forest.predict(X_test)\n",
    "preds"
   ]
  },
  {
   "cell_type": "code",
   "execution_count": 48,
   "id": "d3e232d9",
   "metadata": {},
   "outputs": [
    {
     "name": "stdout",
     "output_type": "stream",
     "text": [
      "              precision    recall  f1-score   support\n",
      "\n",
      "           0       0.99      1.00      0.99     76457\n",
      "           1       0.83      0.67      0.74      2593\n",
      "\n",
      "    accuracy                           0.98     79050\n",
      "   macro avg       0.91      0.83      0.87     79050\n",
      "weighted avg       0.98      0.98      0.98     79050\n",
      "\n"
     ]
    }
   ],
   "source": [
    "print (classification_report(y_test, preds))"
   ]
  },
  {
   "cell_type": "markdown",
   "id": "c7478c2a",
   "metadata": {},
   "source": [
    "Precision has remained the same. Sensitivity has improved by 3%"
   ]
  },
  {
   "cell_type": "markdown",
   "id": "58e8f4cd",
   "metadata": {},
   "source": [
    "Understanding the important variables"
   ]
  },
  {
   "cell_type": "code",
   "execution_count": 49,
   "id": "480d9325",
   "metadata": {},
   "outputs": [
    {
     "data": {
      "text/plain": [
       "array([0.05535023, 0.08643046, 0.07333555, 0.01159229, 0.77329146])"
      ]
     },
     "execution_count": 49,
     "metadata": {},
     "output_type": "execute_result"
    }
   ],
   "source": [
    "clf_forest.feature_importances_"
   ]
  },
  {
   "cell_type": "markdown",
   "id": "ff7c540f",
   "metadata": {},
   "source": [
    "Features used are"
   ]
  },
  {
   "cell_type": "code",
   "execution_count": 50,
   "id": "d5be7246",
   "metadata": {},
   "outputs": [
    {
     "data": {
      "text/plain": [
       "array(['country', 'age', 'new_user', 'source', 'total_pages_visited'],\n",
       "      dtype=object)"
      ]
     },
     "execution_count": 50,
     "metadata": {},
     "output_type": "execute_result"
    }
   ],
   "source": [
    "data.columns.values[:-1]"
   ]
  },
  {
   "cell_type": "code",
   "execution_count": 51,
   "id": "0b0f4c59",
   "metadata": {},
   "outputs": [
    {
     "data": {
      "text/plain": [
       "0.9854986295593506"
      ]
     },
     "execution_count": 51,
     "metadata": {},
     "output_type": "execute_result"
    }
   ],
   "source": [
    "clf_forest.oob_score_"
   ]
  },
  {
   "cell_type": "markdown",
   "id": "f7a170d3",
   "metadata": {},
   "source": [
    "Some insights:\n",
    "    \n",
    "From variable importance, it can be said that, total_pages_visited is the most important feature. Also from oob score it can be said that oob error rate is close to 1.4%.\n",
    "\n",
    "Out of box score is 98.5%. This implies, the predictions were right for 98.5% of the data set. However, it is useful to recognize that the dataset is highly imbalanced with 97% of the data in class 0 and only 3% in class 1. This implies, even if we had classified everything as 0, the accuracy would still be 97%. Therefore, our predictions have only improved by 1.5% which is the difference of 98.5% and 97%.\n",
    "\n",
    "The real challenge lies in improving the recall value of class 1. This value is close to 70%. This implies 30% of the customers who converted were not recognized by our system as potential customers.\n",
    "\n",
    "Recall value needs to be improved even if that results in an increased overall error rate (decrease in precision) and a decrease in specificity value.\n",
    "\n",
    "Building RandomForest again. This time without the total pages visited feature. Also since, the classes are heavily imbalanced, giving it weights."
   ]
  },
  {
   "cell_type": "code",
   "execution_count": 55,
   "id": "58521b14",
   "metadata": {},
   "outputs": [],
   "source": [
    "X_new_train = X_train.copy()\n",
    "X_new_test = X_test.copy()"
   ]
  },
  {
   "cell_type": "code",
   "execution_count": 58,
   "id": "67a22222",
   "metadata": {},
   "outputs": [],
   "source": [
    "X_new_train = X_new_train.drop('total_pages_visited', axis = 1)\n",
    "X_new_test = X_new_test.drop('total_pages_visited', axis = 1)"
   ]
  },
  {
   "cell_type": "code",
   "execution_count": 59,
   "id": "70333c6f",
   "metadata": {},
   "outputs": [],
   "source": [
    "clf_forest_new = RandomForestClassifier(n_estimators= 20, criterion = 'entropy', max_depth= 150, min_samples_leaf= 2,\n",
    "                                    min_samples_split= 2, oob_score= True, class_weight = {0: 0.1, 1: 0.9})"
   ]
  },
  {
   "cell_type": "code",
   "execution_count": 60,
   "id": "8048de29",
   "metadata": {},
   "outputs": [
    {
     "data": {
      "text/plain": [
       "RandomForestClassifier(class_weight={0: 0.1, 1: 0.9}, criterion='entropy',\n",
       "                       max_depth=150, min_samples_leaf=2, n_estimators=20,\n",
       "                       oob_score=True)"
      ]
     },
     "execution_count": 60,
     "metadata": {},
     "output_type": "execute_result"
    }
   ],
   "source": [
    "clf_forest_new.fit(X_new_train, y_train)"
   ]
  },
  {
   "cell_type": "code",
   "execution_count": 61,
   "id": "4758b884",
   "metadata": {},
   "outputs": [
    {
     "data": {
      "text/plain": [
       "array([0, 0, 1, ..., 0, 0, 0], dtype=int64)"
      ]
     },
     "execution_count": 61,
     "metadata": {},
     "output_type": "execute_result"
    }
   ],
   "source": [
    "preds = clf_forest_new.predict(X_new_test)\n",
    "preds"
   ]
  },
  {
   "cell_type": "code",
   "execution_count": 62,
   "id": "ef672f47",
   "metadata": {},
   "outputs": [
    {
     "name": "stdout",
     "output_type": "stream",
     "text": [
      "              precision    recall  f1-score   support\n",
      "\n",
      "           0       0.98      0.92      0.95     76457\n",
      "           1       0.15      0.40      0.21      2593\n",
      "\n",
      "    accuracy                           0.90     79050\n",
      "   macro avg       0.56      0.66      0.58     79050\n",
      "weighted avg       0.95      0.90      0.92     79050\n",
      "\n"
     ]
    }
   ],
   "source": [
    "print (classification_report(y_test, preds))"
   ]
  },
  {
   "cell_type": "code",
   "execution_count": 63,
   "id": "fb02062b",
   "metadata": {},
   "outputs": [
    {
     "data": {
      "text/plain": [
       "array([0.33476518, 0.24604732, 0.39892694, 0.02026057])"
      ]
     },
     "execution_count": 63,
     "metadata": {},
     "output_type": "execute_result"
    }
   ],
   "source": [
    "clf_forest_new.feature_importances_"
   ]
  },
  {
   "cell_type": "code",
   "execution_count": 64,
   "id": "c0dbd109",
   "metadata": {},
   "outputs": [
    {
     "data": {
      "text/plain": [
       "array(['country', 'age', 'new_user', 'source'], dtype=object)"
      ]
     },
     "execution_count": 64,
     "metadata": {},
     "output_type": "execute_result"
    }
   ],
   "source": [
    "X_new_train.columns.values"
   ]
  },
  {
   "cell_type": "markdown",
   "id": "3f809341",
   "metadata": {},
   "source": [
    "Although the error rate has gone up and the recall value has significantly crashed, from variable importance, we can gather that new_user followed by country and age are the important variables with source having no effect on the outcome at all."
   ]
  },
  {
   "cell_type": "markdown",
   "id": "600a1b2c",
   "metadata": {},
   "source": [
    "Conclusions:\n",
    "\n",
    "It is possible to predict upto 98.5% accuracy or an out of bag error rate of 1.5%.\n",
    "\n",
    "Some of the important features are\n",
    "\n",
    "1. Number of pages visited\n",
    "2. new_user\n",
    "3. country\n",
    "4. age\n",
    "\n",
    "Site is working very well for Germany and not so well for China.\n",
    "\n",
    "This could be because of various reasons such as poor translation or the chineese site might be in English as well.\n",
    "\n",
    "The site works well for younger people. Those less than 30 years of age. It could either be because of the nature of the site that caters only to young people or it could be possible that older people find it difficult to navigate through the site for a meaningful conversion.\n",
    "\n",
    "Also, since the most important feature here is the number of pages visited, it implies that, if someone who has visited a lot of pages hasn't converted, then there is a good chance that the user will convert with a little bit of marketing such as discounts, benefits etc.\n",
    "\n",
    "Also, users with an old account tend to do better than the ones with a new account. This could be used by marketing team to it's advantage."
   ]
  },
  {
   "cell_type": "code",
   "execution_count": null,
   "id": "7f3f9970",
   "metadata": {},
   "outputs": [],
   "source": []
  }
 ],
 "metadata": {
  "kernelspec": {
   "display_name": "Python 3",
   "language": "python",
   "name": "python3"
  },
  "language_info": {
   "codemirror_mode": {
    "name": "ipython",
    "version": 3
   },
   "file_extension": ".py",
   "mimetype": "text/x-python",
   "name": "python",
   "nbconvert_exporter": "python",
   "pygments_lexer": "ipython3",
   "version": "3.8.8"
  }
 },
 "nbformat": 4,
 "nbformat_minor": 5
}
